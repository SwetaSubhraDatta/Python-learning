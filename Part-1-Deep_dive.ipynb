{
 "cells": [
  {
   "cell_type": "code",
   "execution_count": 1,
   "metadata": {},
   "outputs": [
    {
     "data": {
      "text/plain": [
       "30"
      ]
     },
     "execution_count": 1,
     "metadata": {},
     "output_type": "execute_result"
    }
   ],
   "source": [
    "''' Example of a ternary opertaor in Python'''\n",
    "a=90\n",
    "b=30 if a>10 else 20\n",
    "b"
   ]
  },
  {
   "cell_type": "code",
   "execution_count": 3,
   "metadata": {},
   "outputs": [
    {
     "name": "stdout",
     "output_type": "stream",
     "text": [
      "30\n"
     ]
    }
   ],
   "source": [
    "#Functions\n",
    "\n",
    "def func_1(a,b):\n",
    "    return func_2(a,b)\n",
    "\n",
    "def func_2(a,b):\n",
    "    return a+b\n",
    "\n",
    "print(func_1(10,20))"
   ]
  },
  {
   "cell_type": "code",
   "execution_count": 6,
   "metadata": {},
   "outputs": [
    {
     "name": "stdout",
     "output_type": "stream",
     "text": [
      "1.4142135623730951\n"
     ]
    }
   ],
   "source": [
    "#lambdas\n",
    "\n",
    "# Get the square root of 2\n",
    "\n",
    "import math\n",
    "\n",
    "root_2=lambda x:math.sqrt(x)\n",
    "\n",
    "print(root_2(2))"
   ]
  },
  {
   "cell_type": "code",
   "execution_count": 1,
   "metadata": {},
   "outputs": [
    {
     "name": "stdout",
     "output_type": "stream",
     "text": [
      "19\n",
      "18\n",
      "17\n",
      "16\n",
      "15\n",
      "14\n",
      "13\n",
      "12\n",
      "11\n",
      "10\n",
      "i is not greater than 10\n"
     ]
    }
   ],
   "source": [
    "#While else\n",
    "\n",
    "i=20\n",
    "\n",
    "while i>10:\n",
    "    i=i-1\n",
    "    if(i==0):\n",
    "        i=5\n",
    "        continue\n",
    "    print(i)\n",
    "else:\n",
    "    print('i is not greater than 10')"
   ]
  },
  {
   "cell_type": "code",
   "execution_count": 4,
   "metadata": {},
   "outputs": [
    {
     "name": "stdout",
     "output_type": "stream",
     "text": [
      "The value of d is  0.75\n",
      "I will always print\n",
      "The value of d is  0.7692307692307693\n",
      "I will always print\n",
      "The value of d is  0.7894736842105263\n",
      "I will always print\n",
      "The value of d is  0.8108108108108109\n",
      "I will always print\n",
      "The value of d is  0.8333333333333334\n",
      "I will always print\n",
      "The value of d is  0.8571428571428571\n",
      "I will always print\n",
      "The value of d is  0.8823529411764706\n",
      "I will always print\n",
      "The value of d is  0.9090909090909091\n",
      "I will always print\n",
      "The value of d is  0.9375\n",
      "I will always print\n",
      "The value of d is  0.967741935483871\n",
      "I will always print\n",
      "The value of d is  1.0\n",
      "I will always print\n",
      "The value of d is  1.0344827586206897\n",
      "I will always print\n",
      "The value of d is  1.0714285714285714\n",
      "I will always print\n",
      "The value of d is  1.1111111111111112\n",
      "I will always print\n",
      "The value of d is  1.1538461538461537\n",
      "I will always print\n",
      "The value of d is  1.2\n",
      "I will always print\n",
      "The value of d is  1.25\n",
      "I will always print\n",
      "The value of d is  1.3043478260869565\n",
      "I will always print\n",
      "The value of d is  1.3636363636363635\n",
      "I will always print\n",
      "The value of d is  1.4285714285714286\n",
      "I will always print\n",
      "The value of d is  1.5\n",
      "I will always print\n",
      "The value of d is  1.5789473684210527\n",
      "I will always print\n",
      "The value of d is  1.6666666666666667\n",
      "I will always print\n",
      "The value of d is  1.7647058823529411\n",
      "I will always print\n",
      "The value of d is  1.875\n",
      "I will always print\n",
      "The value of d is  2.0\n",
      "I will always print\n",
      "The value of d is  2.142857142857143\n",
      "I will always print\n",
      "The value of d is  2.3076923076923075\n",
      "I will always print\n",
      "The value of d is  2.5\n",
      "I will always print\n",
      "The value of d is  2.727272727272727\n",
      "I will always print\n",
      "The value of d is  3.0\n",
      "I will always print\n",
      "The value of d is  3.3333333333333335\n",
      "I will always print\n",
      "The value of d is  3.75\n",
      "I will always print\n",
      "The value of d is  4.285714285714286\n",
      "I will always print\n",
      "The value of d is  5.0\n",
      "I will always print\n",
      "The value of d is  6.0\n",
      "I will always print\n",
      "The value of d is  7.5\n",
      "I will always print\n",
      "The value of d is  10.0\n",
      "I will always print\n",
      "The value of d is  15.0\n",
      "I will always print\n",
      "The value of d is  30.0\n",
      "I will always print\n",
      " Exception occured as division by zero\n",
      "The value of d is  30.0\n",
      "I will always print\n"
     ]
    }
   ],
   "source": [
    "#Exploring try except else finally\n",
    "\n",
    "a=30\n",
    "b=40\n",
    "d=0\n",
    "while a>-1:\n",
    "    try:\n",
    "        d=a/b\n",
    "    except Exception as e:\n",
    "        print (\" Exception occured as\",e)\n",
    "        break\n",
    "    finally: #This will be executed irrespective of the exception\n",
    "        print(\"The value of d is \",d)\n",
    "        b=b-1\n",
    "        print(\"I will always print\")\n",
    "else:\n",
    "    print(\"The value of d is \",d)\n"
   ]
  },
  {
   "cell_type": "code",
   "execution_count": null,
   "metadata": {},
   "outputs": [],
   "source": [
    "#Classes in python \n",
    "\n",
    "class Rectangle:\n",
    "     def __init__(self, width, height) -> None:\n",
    "          self.width=width\n",
    "          self.height= height\n",
    "\n",
    "     def calc_area(self)->int:\n",
    "         return self.width * self.height\n",
    "\n",
    "     def calc_perimeter(self)->int:\n",
    "         return 2*(self.width+self.height)\n",
    "    \n",
    "    ###Here we start playing with the dunder methods\n",
    "\n",
    "    #Overriding the repr \n",
    "\n",
    "     def __repr__(self) -> str: #This is overriding the representation of the object\n",
    "         return \"Rectangle object with width {0} and height {1}\".format(self.width,self.height)\n",
    "\n",
    "     def __str__(self)->str: #this the inbuilt string representation of the class \n",
    "         return  \"Rectangle object created with width {0} and height{1}\".format(self.width,self.height)\n",
    "\n",
    "     def __eq__(self,other)-> bool:\n",
    "          #Lets use the isinstance built in function in Python that is used to check if an object is an instance of a particular class \n",
    "          # or a subclass of that class. It returns True if the object is an instance of the given class or itys subclass and False otherwise\n",
    "          \"\"\"isinstacne(object,parentclassinfo)\"\"\"\n",
    "          if isinstance(other,Rectangle):\n",
    "              return self.width==other.width and self.height==other.height\n",
    "          else:\n",
    "              return False\n",
    "     \n",
    "     \"\"\"\n",
    "     Note - Here is an intresting thing if __lt__ is overridden than __gt__ even if not specified will automatically search for __lt__ \n",
    "     and will return the value ~__lt__ or not  __lt__ \n",
    "     \"\"\"\n",
    "     def __lt__(self,other):\n",
    "         if isinstance(other,Rectangle):\n",
    "             return self.calc_area() < other.calc_area()\n",
    "         else:\n",
    "             return \"Error: Cannot find an instance like this\"\n"
   ]
  }
 ],
 "metadata": {
  "kernelspec": {
   "display_name": "Python 3",
   "language": "python",
   "name": "python3"
  },
  "language_info": {
   "codemirror_mode": {
    "name": "ipython",
    "version": 3
   },
   "file_extension": ".py",
   "mimetype": "text/x-python",
   "name": "python",
   "nbconvert_exporter": "python",
   "pygments_lexer": "ipython3",
   "version": "3.10.6"
  },
  "orig_nbformat": 4
 },
 "nbformat": 4,
 "nbformat_minor": 2
}
